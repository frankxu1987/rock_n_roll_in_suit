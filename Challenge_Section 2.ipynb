{
 "cells": [
  {
   "cell_type": "code",
   "execution_count": 2,
   "metadata": {},
   "outputs": [],
   "source": [
    "import pandas as pd\n",
    "import numpy as np"
   ]
  },
  {
   "cell_type": "code",
   "execution_count": 3,
   "metadata": {},
   "outputs": [
    {
     "data": {
      "text/html": [
       "<div>\n",
       "<style scoped>\n",
       "    .dataframe tbody tr th:only-of-type {\n",
       "        vertical-align: middle;\n",
       "    }\n",
       "\n",
       "    .dataframe tbody tr th {\n",
       "        vertical-align: top;\n",
       "    }\n",
       "\n",
       "    .dataframe thead th {\n",
       "        text-align: right;\n",
       "    }\n",
       "</style>\n",
       "<table border=\"1\" class=\"dataframe\">\n",
       "  <thead>\n",
       "    <tr style=\"text-align: right;\">\n",
       "      <th></th>\n",
       "      <th>npi</th>\n",
       "      <th>nppes_provider_last_org_name</th>\n",
       "      <th>nppes_provider_first_name</th>\n",
       "      <th>nppes_provider_mi</th>\n",
       "      <th>nppes_credentials</th>\n",
       "      <th>nppes_provider_gender</th>\n",
       "      <th>nppes_entity_code</th>\n",
       "      <th>nppes_provider_street1</th>\n",
       "      <th>nppes_provider_street2</th>\n",
       "      <th>nppes_provider_city</th>\n",
       "      <th>...</th>\n",
       "      <th>beneficiary_male_count</th>\n",
       "      <th>beneficiary_race_white_count</th>\n",
       "      <th>beneficiary_race_black_count</th>\n",
       "      <th>beneficiary_race_asian_pi_count</th>\n",
       "      <th>beneficiary_race_hispanic_count</th>\n",
       "      <th>beneficiary_race_nat_ind_count</th>\n",
       "      <th>beneficiary_race_other_count</th>\n",
       "      <th>beneficiary_nondual_count</th>\n",
       "      <th>beneficiary_dual_count</th>\n",
       "      <th>beneficiary_average_risk_score</th>\n",
       "    </tr>\n",
       "  </thead>\n",
       "  <tbody>\n",
       "    <tr>\n",
       "      <th>0</th>\n",
       "      <td>1003000126</td>\n",
       "      <td>ENKESHAFI</td>\n",
       "      <td>ARDALAN</td>\n",
       "      <td>NaN</td>\n",
       "      <td>M.D.</td>\n",
       "      <td>M</td>\n",
       "      <td>I</td>\n",
       "      <td>900 SETON DR</td>\n",
       "      <td>NaN</td>\n",
       "      <td>CUMBERLAND</td>\n",
       "      <td>...</td>\n",
       "      <td>92.0</td>\n",
       "      <td>220.0</td>\n",
       "      <td>14.0</td>\n",
       "      <td>0.0</td>\n",
       "      <td>0.0</td>\n",
       "      <td>0.0</td>\n",
       "      <td>0.0</td>\n",
       "      <td>143.0</td>\n",
       "      <td>91.0</td>\n",
       "      <td>2.1685</td>\n",
       "    </tr>\n",
       "    <tr>\n",
       "      <th>1</th>\n",
       "      <td>1003000142</td>\n",
       "      <td>KHALIL</td>\n",
       "      <td>RASHID</td>\n",
       "      <td>NaN</td>\n",
       "      <td>M.D.</td>\n",
       "      <td>M</td>\n",
       "      <td>I</td>\n",
       "      <td>4126 N HOLLAND SYLVANIA RD</td>\n",
       "      <td>SUITE 220</td>\n",
       "      <td>TOLEDO</td>\n",
       "      <td>...</td>\n",
       "      <td>92.0</td>\n",
       "      <td>195.0</td>\n",
       "      <td>58.0</td>\n",
       "      <td>NaN</td>\n",
       "      <td>NaN</td>\n",
       "      <td>0.0</td>\n",
       "      <td>NaN</td>\n",
       "      <td>143.0</td>\n",
       "      <td>133.0</td>\n",
       "      <td>1.8029</td>\n",
       "    </tr>\n",
       "    <tr>\n",
       "      <th>2</th>\n",
       "      <td>1003000167</td>\n",
       "      <td>ESCOBAR</td>\n",
       "      <td>JULIO</td>\n",
       "      <td>E</td>\n",
       "      <td>DDS</td>\n",
       "      <td>M</td>\n",
       "      <td>I</td>\n",
       "      <td>5 PINE CONE RD</td>\n",
       "      <td>NaN</td>\n",
       "      <td>DAYTON</td>\n",
       "      <td>...</td>\n",
       "      <td>17.0</td>\n",
       "      <td>NaN</td>\n",
       "      <td>0.0</td>\n",
       "      <td>0.0</td>\n",
       "      <td>NaN</td>\n",
       "      <td>0.0</td>\n",
       "      <td>0.0</td>\n",
       "      <td>NaN</td>\n",
       "      <td>NaN</td>\n",
       "      <td>1.0598</td>\n",
       "    </tr>\n",
       "    <tr>\n",
       "      <th>3</th>\n",
       "      <td>1003000175</td>\n",
       "      <td>REYES-VASQUEZ</td>\n",
       "      <td>BELINDA</td>\n",
       "      <td>NaN</td>\n",
       "      <td>D.D.S.</td>\n",
       "      <td>F</td>\n",
       "      <td>I</td>\n",
       "      <td>322 N AZUSA AVE STE 202</td>\n",
       "      <td>NaN</td>\n",
       "      <td>LA PUENTE</td>\n",
       "      <td>...</td>\n",
       "      <td>NaN</td>\n",
       "      <td>NaN</td>\n",
       "      <td>NaN</td>\n",
       "      <td>NaN</td>\n",
       "      <td>NaN</td>\n",
       "      <td>NaN</td>\n",
       "      <td>NaN</td>\n",
       "      <td>NaN</td>\n",
       "      <td>NaN</td>\n",
       "      <td>NaN</td>\n",
       "    </tr>\n",
       "    <tr>\n",
       "      <th>4</th>\n",
       "      <td>1003000282</td>\n",
       "      <td>BLAKEMORE</td>\n",
       "      <td>ROSIE</td>\n",
       "      <td>K</td>\n",
       "      <td>FNP</td>\n",
       "      <td>F</td>\n",
       "      <td>I</td>\n",
       "      <td>TENNESSEE PRISON FOR WOMEN</td>\n",
       "      <td>3881 STEWARTS LANE</td>\n",
       "      <td>NASHVILLE</td>\n",
       "      <td>...</td>\n",
       "      <td>NaN</td>\n",
       "      <td>NaN</td>\n",
       "      <td>NaN</td>\n",
       "      <td>0.0</td>\n",
       "      <td>NaN</td>\n",
       "      <td>0.0</td>\n",
       "      <td>0.0</td>\n",
       "      <td>NaN</td>\n",
       "      <td>NaN</td>\n",
       "      <td>4.5148</td>\n",
       "    </tr>\n",
       "  </tbody>\n",
       "</table>\n",
       "<p>5 rows × 84 columns</p>\n",
       "</div>"
      ],
      "text/plain": [
       "          npi nppes_provider_last_org_name nppes_provider_first_name  \\\n",
       "0  1003000126                    ENKESHAFI                   ARDALAN   \n",
       "1  1003000142                       KHALIL                    RASHID   \n",
       "2  1003000167                      ESCOBAR                     JULIO   \n",
       "3  1003000175                REYES-VASQUEZ                   BELINDA   \n",
       "4  1003000282                    BLAKEMORE                     ROSIE   \n",
       "\n",
       "  nppes_provider_mi nppes_credentials nppes_provider_gender nppes_entity_code  \\\n",
       "0               NaN              M.D.                     M                 I   \n",
       "1               NaN              M.D.                     M                 I   \n",
       "2                 E               DDS                     M                 I   \n",
       "3               NaN            D.D.S.                     F                 I   \n",
       "4                 K               FNP                     F                 I   \n",
       "\n",
       "       nppes_provider_street1 nppes_provider_street2 nppes_provider_city  ...  \\\n",
       "0                900 SETON DR                    NaN          CUMBERLAND  ...   \n",
       "1  4126 N HOLLAND SYLVANIA RD              SUITE 220              TOLEDO  ...   \n",
       "2              5 PINE CONE RD                    NaN              DAYTON  ...   \n",
       "3     322 N AZUSA AVE STE 202                    NaN           LA PUENTE  ...   \n",
       "4  TENNESSEE PRISON FOR WOMEN     3881 STEWARTS LANE           NASHVILLE  ...   \n",
       "\n",
       "   beneficiary_male_count  beneficiary_race_white_count  \\\n",
       "0                    92.0                         220.0   \n",
       "1                    92.0                         195.0   \n",
       "2                    17.0                           NaN   \n",
       "3                     NaN                           NaN   \n",
       "4                     NaN                           NaN   \n",
       "\n",
       "  beneficiary_race_black_count beneficiary_race_asian_pi_count  \\\n",
       "0                         14.0                             0.0   \n",
       "1                         58.0                             NaN   \n",
       "2                          0.0                             0.0   \n",
       "3                          NaN                             NaN   \n",
       "4                          NaN                             0.0   \n",
       "\n",
       "  beneficiary_race_hispanic_count beneficiary_race_nat_ind_count  \\\n",
       "0                             0.0                            0.0   \n",
       "1                             NaN                            0.0   \n",
       "2                             NaN                            0.0   \n",
       "3                             NaN                            NaN   \n",
       "4                             NaN                            0.0   \n",
       "\n",
       "  beneficiary_race_other_count  beneficiary_nondual_count  \\\n",
       "0                          0.0                      143.0   \n",
       "1                          NaN                      143.0   \n",
       "2                          0.0                        NaN   \n",
       "3                          NaN                        NaN   \n",
       "4                          0.0                        NaN   \n",
       "\n",
       "   beneficiary_dual_count  beneficiary_average_risk_score  \n",
       "0                    91.0                          2.1685  \n",
       "1                   133.0                          1.8029  \n",
       "2                     NaN                          1.0598  \n",
       "3                     NaN                             NaN  \n",
       "4                     NaN                          4.5148  \n",
       "\n",
       "[5 rows x 84 columns]"
      ]
     },
     "execution_count": 3,
     "metadata": {},
     "output_type": "execute_result"
    }
   ],
   "source": [
    "data = pd.read_csv('PartD_Prescriber_PUF_NPI_17.txt', sep='\\t', engine='python')\n",
    "data.head()"
   ]
  },
  {
   "cell_type": "markdown",
   "metadata": {},
   "source": [
    "## Question 1"
   ]
  },
  {
   "cell_type": "code",
   "execution_count": 14,
   "metadata": {},
   "outputs": [
    {
     "data": {
      "text/plain": [
       "(158.3494585173676, 158.3494585173676)"
      ]
     },
     "execution_count": 14,
     "metadata": {},
     "output_type": "execute_result"
    }
   ],
   "source": [
    "data['bene_count'].mean(), data.loc[~data['bene_count'].isna(), 'bene_count'].mean()"
   ]
  },
  {
   "cell_type": "markdown",
   "metadata": {},
   "source": [
    "## Question 2: the length of the average prescription "
   ]
  },
  {
   "cell_type": "code",
   "execution_count": 15,
   "metadata": {},
   "outputs": [
    {
     "data": {
      "text/plain": [
       "29.7125748502994"
      ]
     },
     "execution_count": 15,
     "metadata": {},
     "output_type": "execute_result"
    }
   ],
   "source": [
    "data['avg_length']=data.total_day_supply/data.total_claim_count\n",
    "data['avg_length'].median()"
   ]
  },
  {
   "cell_type": "markdown",
   "metadata": {},
   "source": [
    "## Question 3"
   ]
  },
  {
   "cell_type": "code",
   "execution_count": 30,
   "metadata": {},
   "outputs": [
    {
     "data": {
      "text/plain": [
       "0.09664998667912822"
      ]
     },
     "execution_count": 30,
     "metadata": {},
     "output_type": "execute_result"
    }
   ],
   "source": [
    "spec=data[data.brand_suppress_flag.isna()].groupby(by=['specialty_description']).sum().reset_index()\n",
    "spec['brand_fraction']=spec.brand_claim_count/spec.total_claim_count\n",
    "spec.loc[spec.total_claim_count>=1000, 'brand_fraction'].std()\n"
   ]
  },
  {
   "cell_type": "markdown",
   "metadata": {},
   "source": [
    "## Question 4"
   ]
  },
  {
   "cell_type": "code",
   "execution_count": 41,
   "metadata": {},
   "outputs": [
    {
     "data": {
      "text/plain": [
       "0.6331097230267027"
      ]
     },
     "execution_count": 41,
     "metadata": {},
     "output_type": "execute_result"
    }
   ],
   "source": [
    "state=data.groupby(by=['nppes_provider_state']).sum()[['opioid_bene_count', 'antibiotic_bene_count']].reset_index()\n",
    "state['ratio']=state.opioid_bene_count/state.antibiotic_bene_count\n",
    "state.ratio.max()-state.ratio.min()\n"
   ]
  },
  {
   "cell_type": "markdown",
   "metadata": {},
   "source": [
    "## Question 5"
   ]
  },
  {
   "cell_type": "code",
   "execution_count": 45,
   "metadata": {},
   "outputs": [
    {
     "name": "stdout",
     "output_type": "stream",
     "text": [
      "The pearson correlation coeff is -0.6389319595676912\n"
     ]
    }
   ],
   "source": [
    "data['Older65']=data.total_claim_count_ge65/data.total_claim_count\n",
    "data['lowIncome']=data.lis_claim_count/data.total_claim_count\n",
    "print(\"The pearson correlation coeff is\", data.Older65.corr(data.lowIncome, method='pearson'))"
   ]
  },
  {
   "cell_type": "markdown",
   "metadata": {},
   "source": [
    "## Question 6"
   ]
  },
  {
   "cell_type": "code",
   "execution_count": 52,
   "metadata": {},
   "outputs": [],
   "source": [
    "data['Op_length']=data.opioid_day_supply/data.opioid_claim_count\n",
    "highOp=data.groupby(by=['nppes_provider_state', 'specialty_description']).aggregate({'npi': 'count', 'Op_length':'mean'}).reset_index()\n",
    "highOp=highOp[highOp['npi']>=100]\n",
    "highOp.set_index('specialty_description', inplace=True)"
   ]
  },
  {
   "cell_type": "code",
   "execution_count": 58,
   "metadata": {},
   "outputs": [
    {
     "data": {
      "text/plain": [
       "0"
      ]
     },
     "execution_count": 58,
     "metadata": {},
     "output_type": "execute_result"
    }
   ],
   "source": [
    "highOpAll=data.groupby(by=['specialty_description']).aggregate({'Op_length':'mean'}).reset_index().set_index('specialty_description')\n",
    "highOpAll.rename(columns={'Op_length':'Op_length_all'}, inplace=True)\n",
    "highOp=highOp.join(highOpAll)\n"
   ]
  },
  {
   "cell_type": "code",
   "execution_count": 61,
   "metadata": {},
   "outputs": [
    {
     "data": {
      "text/plain": [
       "2.304597636251375"
      ]
     },
     "execution_count": 61,
     "metadata": {},
     "output_type": "execute_result"
    }
   ],
   "source": [
    "highOp['highOp_ratio']=highOp.Op_length/highOp.Op_length_all\n",
    "highOp['highOp_ratio'].max()"
   ]
  },
  {
   "cell_type": "markdown",
   "metadata": {},
   "source": [
    "## Question 7"
   ]
  },
  {
   "cell_type": "code",
   "execution_count": 63,
   "metadata": {},
   "outputs": [
    {
     "data": {
      "text/html": [
       "<div>\n",
       "<style scoped>\n",
       "    .dataframe tbody tr th:only-of-type {\n",
       "        vertical-align: middle;\n",
       "    }\n",
       "\n",
       "    .dataframe tbody tr th {\n",
       "        vertical-align: top;\n",
       "    }\n",
       "\n",
       "    .dataframe thead th {\n",
       "        text-align: right;\n",
       "    }\n",
       "</style>\n",
       "<table border=\"1\" class=\"dataframe\">\n",
       "  <thead>\n",
       "    <tr style=\"text-align: right;\">\n",
       "      <th></th>\n",
       "      <th>npi</th>\n",
       "      <th>total_claim_count_17</th>\n",
       "      <th>total_day_supply_17</th>\n",
       "      <th>total_drug_cost_17</th>\n",
       "      <th>total_claim_count_16</th>\n",
       "      <th>total_drug_cost_16</th>\n",
       "      <th>total_day_supply_16</th>\n",
       "    </tr>\n",
       "  </thead>\n",
       "  <tbody>\n",
       "    <tr>\n",
       "      <th>0</th>\n",
       "      <td>1003000126</td>\n",
       "      <td>677</td>\n",
       "      <td>14788</td>\n",
       "      <td>32639.57</td>\n",
       "      <td>545.0</td>\n",
       "      <td>33618.18</td>\n",
       "      <td>12120.0</td>\n",
       "    </tr>\n",
       "    <tr>\n",
       "      <th>1</th>\n",
       "      <td>1003000142</td>\n",
       "      <td>1946</td>\n",
       "      <td>58605</td>\n",
       "      <td>140189.01</td>\n",
       "      <td>1733.0</td>\n",
       "      <td>139695.81</td>\n",
       "      <td>51314.0</td>\n",
       "    </tr>\n",
       "    <tr>\n",
       "      <th>2</th>\n",
       "      <td>1003000167</td>\n",
       "      <td>55</td>\n",
       "      <td>430</td>\n",
       "      <td>302.01</td>\n",
       "      <td>49.0</td>\n",
       "      <td>267.81</td>\n",
       "      <td>509.0</td>\n",
       "    </tr>\n",
       "    <tr>\n",
       "      <th>3</th>\n",
       "      <td>1003000175</td>\n",
       "      <td>18</td>\n",
       "      <td>150</td>\n",
       "      <td>113.81</td>\n",
       "      <td>NaN</td>\n",
       "      <td>NaN</td>\n",
       "      <td>NaN</td>\n",
       "    </tr>\n",
       "    <tr>\n",
       "      <th>4</th>\n",
       "      <td>1003000282</td>\n",
       "      <td>90</td>\n",
       "      <td>2681</td>\n",
       "      <td>7561.21</td>\n",
       "      <td>146.0</td>\n",
       "      <td>4587.11</td>\n",
       "      <td>5939.0</td>\n",
       "    </tr>\n",
       "  </tbody>\n",
       "</table>\n",
       "</div>"
      ],
      "text/plain": [
       "          npi  total_claim_count_17  total_day_supply_17  total_drug_cost_17  \\\n",
       "0  1003000126                   677                14788            32639.57   \n",
       "1  1003000142                  1946                58605           140189.01   \n",
       "2  1003000167                    55                  430              302.01   \n",
       "3  1003000175                    18                  150              113.81   \n",
       "4  1003000282                    90                 2681             7561.21   \n",
       "\n",
       "   total_claim_count_16  total_drug_cost_16  total_day_supply_16  \n",
       "0                 545.0            33618.18              12120.0  \n",
       "1                1733.0           139695.81              51314.0  \n",
       "2                  49.0              267.81                509.0  \n",
       "3                   NaN                 NaN                  NaN  \n",
       "4                 146.0             4587.11               5939.0  "
      ]
     },
     "execution_count": 63,
     "metadata": {},
     "output_type": "execute_result"
    }
   ],
   "source": [
    "fields = ['npi', 'total_claim_count', 'total_day_supply', 'total_drug_cost']\n",
    "data16 = pd.read_csv('PartD_Prescriber_PUF_NPI_16.txt', sep='\\t', engine='python', usecols=fields)\n",
    "\n",
    "merged=data[fields].merge(data16, on='npi', how='left', suffixes=('_17', '_16'))\n",
    "merged.head()"
   ]
  },
  {
   "cell_type": "code",
   "execution_count": 69,
   "metadata": {},
   "outputs": [
    {
     "data": {
      "text/plain": [
       "0.2274706790254255"
      ]
     },
     "execution_count": 69,
     "metadata": {},
     "output_type": "execute_result"
    }
   ],
   "source": [
    "for year in [16,17]:\n",
    "    merged['avg_cost_day_'+str(year)]=merged['total_drug_cost_'+str(year)]/merged['total_day_supply_'+str(year)]\n",
    "merged['inflation']=merged.avg_cost_day_17/merged.avg_cost_day_16-1\n",
    "merged.inflation.mean()"
   ]
  },
  {
   "cell_type": "markdown",
   "metadata": {},
   "source": [
    "## Question 8"
   ]
  },
  {
   "cell_type": "code",
   "execution_count": 84,
   "metadata": {},
   "outputs": [
    {
     "data": {
      "text/html": [
       "<div>\n",
       "<style scoped>\n",
       "    .dataframe tbody tr th:only-of-type {\n",
       "        vertical-align: middle;\n",
       "    }\n",
       "\n",
       "    .dataframe tbody tr th {\n",
       "        vertical-align: top;\n",
       "    }\n",
       "\n",
       "    .dataframe thead th {\n",
       "        text-align: right;\n",
       "    }\n",
       "</style>\n",
       "<table border=\"1\" class=\"dataframe\">\n",
       "  <thead>\n",
       "    <tr style=\"text-align: right;\">\n",
       "      <th></th>\n",
       "      <th>npi</th>\n",
       "      <th>change</th>\n",
       "    </tr>\n",
       "  </thead>\n",
       "  <tbody>\n",
       "    <tr>\n",
       "      <th>count</th>\n",
       "      <td>1.054559e+06</td>\n",
       "      <td>1.054559e+06</td>\n",
       "    </tr>\n",
       "    <tr>\n",
       "      <th>mean</th>\n",
       "      <td>1.499864e+09</td>\n",
       "      <td>6.754672e-02</td>\n",
       "    </tr>\n",
       "    <tr>\n",
       "      <th>std</th>\n",
       "      <td>2.879302e+08</td>\n",
       "      <td>2.509666e-01</td>\n",
       "    </tr>\n",
       "    <tr>\n",
       "      <th>min</th>\n",
       "      <td>1.003000e+09</td>\n",
       "      <td>0.000000e+00</td>\n",
       "    </tr>\n",
       "    <tr>\n",
       "      <th>25%</th>\n",
       "      <td>1.245692e+09</td>\n",
       "      <td>0.000000e+00</td>\n",
       "    </tr>\n",
       "    <tr>\n",
       "      <th>50%</th>\n",
       "      <td>1.497968e+09</td>\n",
       "      <td>0.000000e+00</td>\n",
       "    </tr>\n",
       "    <tr>\n",
       "      <th>75%</th>\n",
       "      <td>1.750300e+09</td>\n",
       "      <td>0.000000e+00</td>\n",
       "    </tr>\n",
       "    <tr>\n",
       "      <th>max</th>\n",
       "      <td>1.993000e+09</td>\n",
       "      <td>1.000000e+00</td>\n",
       "    </tr>\n",
       "  </tbody>\n",
       "</table>\n",
       "</div>"
      ],
      "text/plain": [
       "                npi        change\n",
       "count  1.054559e+06  1.054559e+06\n",
       "mean   1.499864e+09  6.754672e-02\n",
       "std    2.879302e+08  2.509666e-01\n",
       "min    1.003000e+09  0.000000e+00\n",
       "25%    1.245692e+09  0.000000e+00\n",
       "50%    1.497968e+09  0.000000e+00\n",
       "75%    1.750300e+09  0.000000e+00\n",
       "max    1.993000e+09  1.000000e+00"
      ]
     },
     "execution_count": 84,
     "metadata": {},
     "output_type": "execute_result"
    }
   ],
   "source": [
    "fields = ['npi', 'specialty_description']\n",
    "data16 = pd.read_csv('PartD_Prescriber_PUF_NPI_16.txt', sep='\\t', engine='python', usecols=fields)\n",
    "merged=data[fields].merge(data16, on='npi', how='left', suffixes=('_17', '_16'))\n",
    "merged=merged[(~merged.specialty_description_16.isna()) & (~merged.specialty_description_17.isna())]\n",
    "merged['change']=np.where(merged.specialty_description_16 !=merged.specialty_description_17 ,1, 0)\n",
    "merged.describe()"
   ]
  },
  {
   "cell_type": "code",
   "execution_count": 85,
   "metadata": {},
   "outputs": [
    {
     "data": {
      "text/html": [
       "<div>\n",
       "<style scoped>\n",
       "    .dataframe tbody tr th:only-of-type {\n",
       "        vertical-align: middle;\n",
       "    }\n",
       "\n",
       "    .dataframe tbody tr th {\n",
       "        vertical-align: top;\n",
       "    }\n",
       "\n",
       "    .dataframe thead th {\n",
       "        text-align: right;\n",
       "    }\n",
       "</style>\n",
       "<table border=\"1\" class=\"dataframe\">\n",
       "  <thead>\n",
       "    <tr style=\"text-align: right;\">\n",
       "      <th></th>\n",
       "      <th>specialty_description_16</th>\n",
       "      <th>change</th>\n",
       "      <th>change_ratio</th>\n",
       "    </tr>\n",
       "    <tr>\n",
       "      <th>specialty_description_16</th>\n",
       "      <th></th>\n",
       "      <th></th>\n",
       "      <th></th>\n",
       "    </tr>\n",
       "  </thead>\n",
       "  <tbody>\n",
       "    <tr>\n",
       "      <th>Obstetrics/Gynecology</th>\n",
       "      <td>4689</td>\n",
       "      <td>4689</td>\n",
       "      <td>1.000000</td>\n",
       "    </tr>\n",
       "    <tr>\n",
       "      <th>Cardiovascular Disease (Cardiology)</th>\n",
       "      <td>20079</td>\n",
       "      <td>20079</td>\n",
       "      <td>1.000000</td>\n",
       "    </tr>\n",
       "    <tr>\n",
       "      <th>Clinical Cardiatric Electrophysiology</th>\n",
       "      <td>1877</td>\n",
       "      <td>1877</td>\n",
       "      <td>1.000000</td>\n",
       "    </tr>\n",
       "    <tr>\n",
       "      <th>Oral Surgery (Dentists only)</th>\n",
       "      <td>5418</td>\n",
       "      <td>5418</td>\n",
       "      <td>1.000000</td>\n",
       "    </tr>\n",
       "    <tr>\n",
       "      <th>Student in an Organized Health Care Education/Training Program</th>\n",
       "      <td>45388</td>\n",
       "      <td>13172</td>\n",
       "      <td>0.290209</td>\n",
       "    </tr>\n",
       "  </tbody>\n",
       "</table>\n",
       "</div>"
      ],
      "text/plain": [
       "                                                    specialty_description_16  \\\n",
       "specialty_description_16                                                       \n",
       "Obstetrics/Gynecology                                                   4689   \n",
       "Cardiovascular Disease (Cardiology)                                    20079   \n",
       "Clinical Cardiatric Electrophysiology                                   1877   \n",
       "Oral Surgery (Dentists only)                                            5418   \n",
       "Student in an Organized Health Care Education/T...                     45388   \n",
       "\n",
       "                                                    change  change_ratio  \n",
       "specialty_description_16                                                  \n",
       "Obstetrics/Gynecology                                 4689      1.000000  \n",
       "Cardiovascular Disease (Cardiology)                  20079      1.000000  \n",
       "Clinical Cardiatric Electrophysiology                 1877      1.000000  \n",
       "Oral Surgery (Dentists only)                          5418      1.000000  \n",
       "Student in an Organized Health Care Education/T...   13172      0.290209  "
      ]
     },
     "execution_count": 85,
     "metadata": {},
     "output_type": "execute_result"
    }
   ],
   "source": [
    "group=merged.groupby(by='specialty_description_16').agg({'specialty_description_16': 'count', 'change':'sum'})\n",
    "group['change_ratio']=group.change/group.specialty_description_16\n",
    "group=group[group['specialty_description_16']>=1000]\n",
    "group.sort_values('change_ratio', ascending=False, inplace=True )\n",
    "group.head()"
   ]
  },
  {
   "cell_type": "code",
   "execution_count": 83,
   "metadata": {},
   "outputs": [
    {
     "data": {
      "text/html": [
       "<div>\n",
       "<style scoped>\n",
       "    .dataframe tbody tr th:only-of-type {\n",
       "        vertical-align: middle;\n",
       "    }\n",
       "\n",
       "    .dataframe tbody tr th {\n",
       "        vertical-align: top;\n",
       "    }\n",
       "\n",
       "    .dataframe thead th {\n",
       "        text-align: right;\n",
       "    }\n",
       "</style>\n",
       "<table border=\"1\" class=\"dataframe\">\n",
       "  <thead>\n",
       "    <tr style=\"text-align: right;\">\n",
       "      <th></th>\n",
       "      <th>specialty_description_16</th>\n",
       "      <th>specialty_description_17</th>\n",
       "      <th>change_ratio</th>\n",
       "    </tr>\n",
       "  </thead>\n",
       "  <tbody>\n",
       "    <tr>\n",
       "      <th>Student in an Organized Health Care Education/Training Program</th>\n",
       "      <td>45388.0</td>\n",
       "      <td>32628.0</td>\n",
       "      <td>0.281132</td>\n",
       "    </tr>\n",
       "    <tr>\n",
       "      <th>Cardiac Surgery</th>\n",
       "      <td>1060.0</td>\n",
       "      <td>1020.0</td>\n",
       "      <td>0.037736</td>\n",
       "    </tr>\n",
       "    <tr>\n",
       "      <th>Certified Clinical Nurse Specialist</th>\n",
       "      <td>2478.0</td>\n",
       "      <td>2409.0</td>\n",
       "      <td>0.027845</td>\n",
       "    </tr>\n",
       "    <tr>\n",
       "      <th>General Practice</th>\n",
       "      <td>9425.0</td>\n",
       "      <td>9317.0</td>\n",
       "      <td>0.011459</td>\n",
       "    </tr>\n",
       "    <tr>\n",
       "      <th>Internal Medicine</th>\n",
       "      <td>126116.0</td>\n",
       "      <td>124698.0</td>\n",
       "      <td>0.011244</td>\n",
       "    </tr>\n",
       "  </tbody>\n",
       "</table>\n",
       "</div>"
      ],
      "text/plain": [
       "                                                    specialty_description_16  \\\n",
       "Student in an Organized Health Care Education/T...                   45388.0   \n",
       "Cardiac Surgery                                                       1060.0   \n",
       "Certified Clinical Nurse Specialist                                   2478.0   \n",
       "General Practice                                                      9425.0   \n",
       "Internal Medicine                                                   126116.0   \n",
       "\n",
       "                                                    specialty_description_17  \\\n",
       "Student in an Organized Health Care Education/T...                   32628.0   \n",
       "Cardiac Surgery                                                       1020.0   \n",
       "Certified Clinical Nurse Specialist                                   2409.0   \n",
       "General Practice                                                      9317.0   \n",
       "Internal Medicine                                                   124698.0   \n",
       "\n",
       "                                                    change_ratio  \n",
       "Student in an Organized Health Care Education/T...      0.281132  \n",
       "Cardiac Surgery                                         0.037736  \n",
       "Certified Clinical Nurse Specialist                     0.027845  \n",
       "General Practice                                        0.011459  \n",
       "Internal Medicine                                       0.011244  "
      ]
     },
     "execution_count": 83,
     "metadata": {},
     "output_type": "execute_result"
    }
   ],
   "source": [
    "# Second Method\n",
    "group16=merged.groupby(by=['specialty_description_16'])['specialty_description_16'].count()\n",
    "group17=merged.groupby(by=['specialty_description_17'])['specialty_description_17'].count()\n",
    "group16=pd.concat([group16, group17], axis=1, join='outer')\n",
    "group16['change_ratio']=(group16.specialty_description_16-group16.specialty_description_17)/group16.specialty_description_16\n",
    "group16.sort_values('change_ratio', ascending=False, inplace=True )\n",
    "group16[group16.specialty_description_16>=1000].head()\n"
   ]
  }
 ],
 "metadata": {
  "kernelspec": {
   "display_name": "Python 3",
   "language": "python",
   "name": "python3"
  },
  "language_info": {
   "codemirror_mode": {
    "name": "ipython",
    "version": 3
   },
   "file_extension": ".py",
   "mimetype": "text/x-python",
   "name": "python",
   "nbconvert_exporter": "python",
   "pygments_lexer": "ipython3",
   "version": "3.7.6"
  }
 },
 "nbformat": 4,
 "nbformat_minor": 4
}
